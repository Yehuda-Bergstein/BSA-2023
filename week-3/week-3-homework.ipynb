{
 "cells": [
  {
   "cell_type": "markdown",
   "metadata": {},
   "source": [
    "# Biological Signals Analysis - Week 3 Homework\n",
    "\n",
    "## Created by Guy Singer, January 18, 2024\n",
    "\n",
    "## Table of Contents\n",
    "- [Math Exercises - Convolutions and Filters](#math-exercises)\n",
    "    - [Question 1: Convolving Two Arrays](#question-1)\n",
    "    - [Question 2: Convolving Two Signals with an FFT](#question-2)\n",
    "    - [Question 3: Moving Average Filter](#question-3)\n",
    "    - [Question 4: Butterwoth Filter](#question-4)\n",
    "- [Programming Exercises](#programming-exercises)\n",
    "    - [Question 5: Loading the Data](#question-5)\n",
    "    - [Question 6: Noise Filtering](#question-6)\n",
    "    - [Question 7: Creating ERP Template](#question-7)\n",
    "    - [Question 8: Matched Filter Convolution](#question-8)"
   ]
  },
  {
   "cell_type": "markdown",
   "metadata": {},
   "source": [
    "<a id=\"math-exercises\"></a>\n",
    "## Math Exercises - Convolutions and Filters\n",
    "\n",
    "The first portion of this homework assignment contains mathematics questions related to the topics covered this week (Convolutions and Filters).\n",
    "Please write your answers using the Jupyter markup cell’s LaTeX interpreter, or embed a scanned image/pdf of your answers into the markup cell.\n",
    "\n",
    "More information about LaTeX and Jupyter markdown formatting can be found here:\n",
    "\n",
    "[https://jupyterbook.org/en/stable/content/math.html](https://jupyterbook.org/en/stable/content/math.html)\n",
    "\n",
    "And Here:\n",
    "\n",
    "[https://ashki23.github.io/markdown-latex.html](https://ashki23.github.io/markdown-latex.html)"
   ]
  },
  {
   "cell_type": "markdown",
   "metadata": {},
   "source": [
    "<a id=\"question-1\"></a>\n",
    "### Question 1: Convolving Two Arrays\n",
    "\n",
    "Given two arrays, $A = [3, 4, 5, 6, 2]$ and $B = [1, 2, 3]$, perform the regular convolution of these arrays. Provide a detailed step-by-step calculation and explain how the convolution changes the characteristics of the original arrays. What is the significance of convolution in signal processing, especially in the context of neural data analysis?"
   ]
  },
  {
   "cell_type": "markdown",
   "metadata": {},
   "source": [
    "** Your Answer Here **"
   ]
  },
  {
   "cell_type": "markdown",
   "metadata": {},
   "source": [
    "<a id=\"question-2\"></a>\n",
    "### Question 2: Convolving Two Signals with an FFT\n",
    "\n",
    "Consider two discrete-time signals, $X[n]$ and $Y[n]$, each with a length of 1000 points. Write an expression for convolving these signals using the Fast Fourier Transform (FFT) method. Compare the computational complexity of this method with the direct convolution method. Why is FFT-based convolution particularly beneficial in the context of processing large neural datasets?"
   ]
  },
  {
   "cell_type": "markdown",
   "metadata": {},
   "source": [
    "** Your Answer Here **"
   ]
  },
  {
   "cell_type": "markdown",
   "metadata": {},
   "source": [
    "<a id=\"question-3\"></a>\n",
    "### Question 3: Moving Average Filter\n",
    "\n",
    "You have a signal $S = [2, 3, 4, 5, 6, 7, 8, 9, 10]$. Calculate the moving average of this signal using a Finite Impulse Response (FIR) filter with a window size of 3. Show your calculations in detail. Discuss the effect of the moving average filter on the signal, particularly in terms of smoothing and latency. How does this apply to neural signal processing?"
   ]
  },
  {
   "cell_type": "markdown",
   "metadata": {},
   "source": [
    "** Your Answer Here **"
   ]
  },
  {
   "cell_type": "markdown",
   "metadata": {},
   "source": [
    "<a id=\"question-4\"></a>\n",
    "### Question 3: Butterworth Filter\n",
    "\n",
    "Design a Butterworth low-pass filter with a cutoff frequency of 100 Hz for a signal sampled at 1000 Hz. Provide the order of the filter and its frequency response equation. Explain how the characteristics of a Butterworth filter make it suitable or unsuitable for certain types of neural signals. What considerations should be made when choosing the order of the filter?"
   ]
  },
  {
   "cell_type": "markdown",
   "metadata": {},
   "source": [
    "** Your Answer Here **"
   ]
  },
  {
   "cell_type": "markdown",
   "metadata": {},
   "source": [
    "<a id=\"programming-exercises\"></a>\n",
    "## Programming Exercises\n",
    "\n",
    "In the following cells, you will write python code to manipulate and analyze an EEG signal, in order to gain insights about what is contained in the signal. "
   ]
  },
  {
   "cell_type": "markdown",
   "metadata": {},
   "source": [
    "<a id=\"question-5\"></a>\n",
    "### Question 5: Loading the Data\n",
    "\n",
    "Write a script to load the EEG recordings provided in this week's directory (in the subdirectory called \"EEG-files\"). Once loaded, create visualizations for each recording in both the time and frequency domains. Discuss any notable features you observe in these domains. How do these visualizations help in understanding the EEG recordings?"
   ]
  },
  {
   "cell_type": "code",
   "execution_count": null,
   "metadata": {},
   "outputs": [],
   "source": [
    "# Your code here"
   ]
  },
  {
   "cell_type": "markdown",
   "metadata": {},
   "source": [
    "** Your Explanation Here **"
   ]
  },
  {
   "cell_type": "markdown",
   "metadata": {},
   "source": [
    "<a id=\"question-6\"></a>\n",
    "### Question 6: Noise Filtering\n",
    "\n",
    "Implement a noise filtering technique on the EEG recordings using a filter of your choice (e.g., low-pass, high-pass, band-pass, notch filter). Explain the rationale behind your choice of filter and its parameters (such as cutoff frequency). How does this filter improve the quality of the EEG data? Provide before and after visualizations of the filtered signal and discuss the impact of your filtering."
   ]
  },
  {
   "cell_type": "code",
   "execution_count": null,
   "metadata": {},
   "outputs": [],
   "source": [
    "# Your code here"
   ]
  },
  {
   "cell_type": "markdown",
   "metadata": {},
   "source": [
    "** Your Explanation Here **"
   ]
  },
  {
   "cell_type": "markdown",
   "metadata": {},
   "source": [
    "<a id=\"question-7\"></a>\n",
    "### Question 7: Creating ERP Template\n",
    "\n",
    "Write a script to average the 10 EEG recordings, aligning them based on the known timestamps of the Event-Related Potentials (ERP). This will create an idealized template of the ERP. Plot the resulting averaged ERP and discuss its characteristics. How does averaging help in identifying the features of the ERP? Discuss any potential issues that might arise from this method.\n"
   ]
  },
  {
   "cell_type": "code",
   "execution_count": null,
   "metadata": {},
   "outputs": [],
   "source": [
    "# Your code here"
   ]
  },
  {
   "cell_type": "markdown",
   "metadata": {},
   "source": [
    "** Your Explanation Here **"
   ]
  },
  {
   "cell_type": "markdown",
   "metadata": {},
   "source": [
    "<a id=\"question-8\"></a>\n",
    "### Question 8: Matched Filter Convolution\n",
    "\n",
    "Use the ERP template created in the previous question to perform a matched filter convolution with the new EEG recording (the one where the ERP location is unknown). Write a script that implements this convolution and identify where in the recording the ERP is most likely to occur. Provide a plot showing the convolution output and indicate the location of the ERP. Discuss how the matched filter approach helps in detecting the ERP and any limitations or challenges of this method."
   ]
  },
  {
   "cell_type": "code",
   "execution_count": null,
   "metadata": {},
   "outputs": [],
   "source": [
    "# Your code here"
   ]
  },
  {
   "cell_type": "markdown",
   "metadata": {},
   "source": [
    "** Your Explanation Here **"
   ]
  }
 ],
 "metadata": {
  "kernelspec": {
   "display_name": "Python 3",
   "language": "python",
   "name": "python3"
  },
  "language_info": {
   "name": "python",
   "version": "3.11.7"
  }
 },
 "nbformat": 4,
 "nbformat_minor": 2
}
