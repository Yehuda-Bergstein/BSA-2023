{
 "cells": [
  {
   "cell_type": "markdown",
   "metadata": {},
   "source": [
    "## Biological Signals Analysis - Week 4 Homework\n",
    "\n",
    "### Due: Feb. 14, 2024\n",
    "\n",
    "### Table of Contents\n",
    "- Part I: Exploring and Visualizing Microscopy Dataset\n",
    "- Part II: Histograms\n",
    "- Part III: Image Thresholding and Blurring\n",
    "- Part IV: Edge Detection\n",
    "- Part V: Segmentation"
   ]
  },
  {
   "cell_type": "markdown",
   "metadata": {},
   "source": [
    "### Part I: Exploring and Visualizing Microscopy Dataset\n",
    "\n",
    "The dataset for this exercise was part of a competition on Kaggle sponsored by Sartorius AG, and can be accessed through the following link: [Sartorius - Cell Instance Segmentation](https://www.kaggle.com/competitions/sartorius-cell-instance-segmentation/overview). \n",
    "\n",
    "Your first task is to download this dataset and use Python to explore and visualize it. Your exploration should include, but is not limited to, the following:\n",
    "   - Load several images from the dataset.\n",
    "   - Display some of the images using a Python library of your choice\n",
    "   - Print out the shape and characteristics of the dataset, including dimensions of the images and any other relevant information.\n",
    "   - Discuss any observations you have about the dataset based on your initial exploration.\n",
    "\n",
    "\n",
    "Example notebooks that were submitted for the original competition, and may be helpful in this exercise, are available under the \"Code\" section of the dataset's website on Kaggle. A particularly useful example to get you started is this notebook: [Train Sartorius - Segmentation EDA - EffDet - TF](https://www.kaggle.com/code/dschettler8845/train-sartorius-segmentation-eda-effdet-tf)."
   ]
  },
  {
   "cell_type": "code",
   "execution_count": null,
   "metadata": {},
   "outputs": [],
   "source": [
    "## Insert Code Here"
   ]
  },
  {
   "cell_type": "markdown",
   "metadata": {},
   "source": [
    "** Insert Writing Here **"
   ]
  },
  {
   "cell_type": "markdown",
   "metadata": {},
   "source": [
    "### Part II: Histograms"
   ]
  },
  {
   "cell_type": "markdown",
   "metadata": {},
   "source": [
    "Please follow these steps:\n",
    "\n",
    "- **Select Images**: Choose a subset of 10 images from the Sartorius dataset.\n",
    "- **Create Histogram Arrays**: For each of the 10 selected images, create histogram arrays. These arrays should represent the frequency distribution of the pixel intensities in the images. Note that at this stage, you are only creating the arrays, not yet plotting them.\n",
    "- **Average Histogram**: Calculate the average histogram by averaging the occurrence values across the 10 images. This will result in a single histogram array representing the average distribution of pixel intensities across your selected subset.\n",
    "- **Visualize the Average Histogram**: Using your preferred plotting library, visualize the averaged histogram."
   ]
  },
  {
   "cell_type": "code",
   "execution_count": null,
   "metadata": {},
   "outputs": [],
   "source": [
    "## Insert Code Here"
   ]
  },
  {
   "cell_type": "markdown",
   "metadata": {},
   "source": [
    "** Insert Writing Here **"
   ]
  },
  {
   "cell_type": "markdown",
   "metadata": {},
   "source": [
    "### Part III: Image Thresholding and Blurring\n",
    "\n",
    "Please follow these steps:\n",
    "\n",
    "- **Blurring**: Apply a blurring technique to each of the 10 images you selected in the previous step to reduce noise. You may use Gaussian blurring or any other blurring method of your choice.\n",
    "- **Thresholding**: After blurring, apply thresholding to the same images. Choose appropriate threshold values that you find suitable for these images.\n",
    "- **Visualization**: Create visualizations to compare the original and processed images. Include the following types of visualizations:\n",
    "  - Side-by-side visual comparisons of each image before and after the blurring and thresholding.\n",
    "  - Histogram plots of the pixel instensity values averaged across the 10 images\n",
    "- **Mathematical Expressions**: In a markdown cell, write down the mathematical expressions or formulas for the blurring and thresholding operations you have used."
   ]
  },
  {
   "cell_type": "code",
   "execution_count": null,
   "metadata": {},
   "outputs": [],
   "source": [
    "## Insert Code Here"
   ]
  },
  {
   "cell_type": "markdown",
   "metadata": {},
   "source": [
    "** Insert Writing Here **"
   ]
  },
  {
   "cell_type": "markdown",
   "metadata": {},
   "source": [
    "### Part IV: Edge Detection"
   ]
  },
  {
   "cell_type": "markdown",
   "metadata": {},
   "source": [
    "Please follow these steps:\n",
    "- **Choose an Edge Detection Method**: Select an edge detection method of your choice. This could be the Sobel operator, Canny edge detection, or any other method you are familiar with or wish to explore.\n",
    "- **Apply Edge Detection**: Apply the chosen edge detection technique to the same subset of 10 images you have been working with. Make sure to adjust any parameters or thresholds to optimize the edge detection for these specific images.\n",
    "- **Visualize the Results**: Create visualizations to display the original images alongside their edge-detected counterparts. \n",
    "- **Mathematical Expressions**: In a markdown cell, write down the mathematical expressions or formulas for the edge detection operations you have used."
   ]
  },
  {
   "cell_type": "code",
   "execution_count": null,
   "metadata": {},
   "outputs": [],
   "source": [
    "## Insert Code Here"
   ]
  },
  {
   "cell_type": "markdown",
   "metadata": {},
   "source": [
    "** Insert Writing Here **"
   ]
  },
  {
   "cell_type": "markdown",
   "metadata": {},
   "source": [
    "### Part V: Segmentation\n",
    "\n",
    "Apply a cell segmentation technique to isolate neuronal cells in the microscopy images from the Sartorius dataset. Follow these guidelines:\n",
    "\n",
    "- **Select a Segmentation Technique**: Choose a segmentation technique that you find suitable for isolating cells in the image. You may draw inspiration from one of the example notebooks on Kaggle, use a classical computer vision technique, or utilize a Python package specifically designed for cell segmentation.\n",
    "- **Apply the Technique**: Apply your chosen segmentation method to the same subset of 10 images. You have the flexibility to use either the original images or the augmented versions (post blurring, thresholding, etc.) from your previous tasks.\n",
    "- **Visualize the Results**: Create visualizations that clearly show the segmentation results. Display the segmented cells in a way that differentiates them from the rest of the image.\n",
    "\n",
    "Additionally, include a markdown cell where you:\n",
    "\n",
    "- **Explain Your Procedure**: Outline the steps you followed in your segmentation process.\n",
    "- **Justify Your Choice of Technique**: Provide a rationale for selecting the particular segmentation technique."
   ]
  },
  {
   "cell_type": "code",
   "execution_count": null,
   "metadata": {},
   "outputs": [],
   "source": [
    "## Insert Code Here"
   ]
  },
  {
   "cell_type": "markdown",
   "metadata": {},
   "source": [
    "** Insert Writing Here **"
   ]
  },
  {
   "cell_type": "markdown",
   "metadata": {},
   "source": []
  }
 ],
 "metadata": {
  "language_info": {
   "name": "python"
  }
 },
 "nbformat": 4,
 "nbformat_minor": 2
}
