{
 "cells": [
  {
   "cell_type": "markdown",
   "metadata": {},
   "source": [
    "# Biological Signals Analysis - Week 10 Homework\n",
    "\n",
    "## Due: Wednesday, March 27, 2024"
   ]
  },
  {
   "cell_type": "markdown",
   "metadata": {},
   "source": [
    "**Question 1.1**: Load two datasets provided in 'dataForROC1.csv' and 'dataForROC2.csv'. These datasets contain x and y coordinates of points, and the third column indicates the type of point (0 or 1). Your task is to scatter plot these points using Python. Differentiate between the point types by using the 'c' argument in the scatter plot function to apply color based on the labels.\n"
   ]
  },
  {
   "cell_type": "code",
   "execution_count": null,
   "metadata": {},
   "outputs": [],
   "source": [
    "** Your code here **"
   ]
  },
  {
   "cell_type": "markdown",
   "metadata": {},
   "source": [
    "**Question 1.2**: Plot two ROC curves for each dataset. For the first ROC curve, use a simple horizontal line as the threshold, moving across the screen to separate the points. For the second ROC curve, devise a threshold function that you think could maximize the area under the curve (AUC) of the ROC. After plotting, discuss your results and the effectiveness of your chosen threshold function in the comments."
   ]
  },
  {
   "cell_type": "code",
   "execution_count": null,
   "metadata": {},
   "outputs": [],
   "source": [
    "** your code here **"
   ]
  },
  {
   "cell_type": "markdown",
   "metadata": {},
   "source": [
    "**Question 2.1**: Create four sinusoidal $ r(t) $ functions that will be used to create spike trains and PSTHs. These $ r(t) $ functions should have four distinct frequencies ranging between 1 Hz and 100 Hz. \n"
   ]
  },
  {
   "cell_type": "code",
   "execution_count": null,
   "metadata": {},
   "outputs": [],
   "source": [
    "** your code here **"
   ]
  },
  {
   "cell_type": "markdown",
   "metadata": {},
   "source": [
    "**Question 2.2**: Generate spike trains for each of the four $ r(t) $ functions. Use these spike trains to create \"base PSTHs\". For each base PSTH, simulate 20 trials and sum their spike trains to create a single column representing the PSTH of one neuron. Construct 24 such columns to represent the PSTHs of 24 neurons. Choose the number of time bins (rows) between 30 to 50 for the PSTHs.\n"
   ]
  },
  {
   "cell_type": "code",
   "execution_count": null,
   "metadata": {},
   "outputs": [],
   "source": [
    "** your code here **"
   ]
  },
  {
   "cell_type": "markdown",
   "metadata": {},
   "source": [
    "**Question 2.3**: Plot four two-dimensional PSTHs, each with a distinct spike frequency from the $ r(t) $ functions you have created. You might find it helpful to first create a function that generates the raster plots of 24 neurons for a single \"trial\". Running this function 20 times and summing the output will give you the PSTH of 24 neurons at a given spike frequency of $ r(t) $."
   ]
  },
  {
   "cell_type": "code",
   "execution_count": null,
   "metadata": {},
   "outputs": [],
   "source": [
    "** your code here **"
   ]
  }
 ],
 "metadata": {
  "language_info": {
   "name": "python"
  }
 },
 "nbformat": 4,
 "nbformat_minor": 2
}
