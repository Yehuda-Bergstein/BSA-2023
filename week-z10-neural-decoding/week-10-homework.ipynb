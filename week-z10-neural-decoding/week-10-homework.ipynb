{
 "cells": [
  {
   "cell_type": "markdown",
   "metadata": {},
   "source": [
    "# Biological Signals Analysis - Week 10 Homework\n",
    "\n",
    "## Due: Wednesday, March 27, 2024"
   ]
  },
  {
   "cell_type": "markdown",
   "metadata": {},
   "source": [
    "**Question 1.1**: Load two datasets provided in 'dataForROC1.csv' and 'dataForROC2.csv'. These datasets contain x and y coordinates of points, and the third column indicates the type of point (0 or 1). Your task is to scatter plot these points using Python. Differentiate between the point types by using the 'c' argument in the scatter plot function to apply color based on the labels.\n"
   ]
  },
  {
   "cell_type": "code",
   "execution_count": null,
   "metadata": {},
   "outputs": [],
   "source": [
    "** Your code here **"
   ]
  },
  {
   "cell_type": "markdown",
   "metadata": {},
   "source": [
    "**Question 1.2**: Plot two ROC curves for each dataset. For the first ROC curve, use a simple horizontal line as the threshold, moving across the screen to separate the points. For the second ROC curve, devise a threshold function that you think could maximize the area under the curve (AUC) of the ROC. After plotting, discuss your results and the effectiveness of your chosen threshold function in the comments."
   ]
  },
  {
   "cell_type": "code",
   "execution_count": null,
   "metadata": {},
   "outputs": [],
   "source": [
    "** your code here **"
   ]
  },
  {
   "cell_type": "markdown",
   "metadata": {},
   "source": [
    "**Question 2.1**: Create four sinusoidal $ r(t) $ functions that will be used with a function like `generatePoiSpikes` to create spike trains and PSTHs. These $ r(t) $ functions should have four distinct frequencies ranging between 1 Hz and 100 Hz. \n"
   ]
  },
  {
   "cell_type": "code",
   "execution_count": null,
   "metadata": {},
   "outputs": [],
   "source": [
    "** your code here **"
   ]
  },
  {
   "cell_type": "markdown",
   "metadata": {},
   "source": [
    "**Question 2.2**: Generate spike trains for each of the four $ r(t) $ functions. Use these spike trains to create \"base PSTHs\". For each base PSTH, simulate 20 trials and sum their spike trains to create a single column representing the PSTH of one neuron. Construct 24 such columns to represent the PSTHs of 24 neurons. Choose the number of time bins (rows) between 30 to 50 for the PSTHs.\n"
   ]
  },
  {
   "cell_type": "code",
   "execution_count": null,
   "metadata": {},
   "outputs": [],
   "source": [
    "** your code here **"
   ]
  },
  {
   "cell_type": "markdown",
   "metadata": {},
   "source": [
    "**Question 2.3**: Plot four two-dimensional PSTHs, each with a distinct spike frequency from the $ r(t) $ functions you have created. You might find it helpful to first create a function that generates the raster plots of 24 neurons for a single \"trial\". Running this function 20 times and summing the output will give you the PSTH of 24 neurons at a given spike frequency of $ r(t) $."
   ]
  },
  {
   "cell_type": "code",
   "execution_count": null,
   "metadata": {},
   "outputs": [],
   "source": [
    "** your code here **"
   ]
  },
  {
   "cell_type": "markdown",
   "metadata": {},
   "source": [
    "**Question 2.4**: Write a function that accepts a spike frequency and returns a two-dimensional raster plot of a single trial, similar to the output of `createRasterPlot`. The function should then measure the Euclidean distance between this raster plot and all four base PSTHs. The base PSTH with the minimal distance is identified as the decoding PSTH. Your function should output the index of the decoding base PSTH and the associated distances to all PSTHs, like so: \"The measured distances to the four PSTHs were: d1, d2, d3, d4. The minimal distance is d3; therefore, the PSTH that decodes this input is PSTH number 3 with a spike frequency of spikeFreq.\""
   ]
  },
  {
   "cell_type": "code",
   "execution_count": null,
   "metadata": {},
   "outputs": [],
   "source": [
    "** your code here **"
   ]
  }
 ],
 "metadata": {
  "language_info": {
   "name": "python"
  }
 },
 "nbformat": 4,
 "nbformat_minor": 2
}
