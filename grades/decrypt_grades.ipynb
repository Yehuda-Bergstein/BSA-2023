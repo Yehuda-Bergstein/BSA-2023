{
 "cells": [
  {
   "cell_type": "markdown",
   "metadata": {},
   "source": [
    "## Decrypting Your Grades\n",
    "\n",
    "To protect your privacy, I have encrypted your grades in the CSV file \"grades_encrypted.csv\". This means that your grades are securely stored and can only be accessed by you using your unique ID number. To decrypt and view your grades, please follow the instructions below.\n",
    "\n",
    "1. Download the encrypted CSV file containing your grades from the github repository.\n",
    "2. Open this Jupyter Notebook.\n",
    "3. Update the csv_file_path variable in the code with the path to the downloaded encrypted CSV file.\n",
    "4. Run the code cell.\n",
    "5. When prompted, enter your ID number and press Enter.\n",
    "6. The code will decrypt your grades and display them if found."
   ]
  },
  {
   "cell_type": "code",
   "execution_count": null,
   "metadata": {},
   "outputs": [],
   "source": [
    "%pip install pandas cryptography"
   ]
  },
  {
   "cell_type": "code",
   "execution_count": null,
   "metadata": {},
   "outputs": [],
   "source": [
    "import pandas as pd\n",
    "from cryptography.fernet import Fernet\n",
    "import base64\n",
    "import hashlib\n",
    "\n",
    "def derive_key(id_number):\n",
    "    id_bytes = str(id_number).encode()\n",
    "    key = hashlib.sha256(id_bytes).digest()\n",
    "    encoded_key = base64.urlsafe_b64encode(key)\n",
    "    return encoded_key\n",
    "\n",
    "def decrypt_value(encrypted_value, key):\n",
    "    try:\n",
    "        fernet = Fernet(key)\n",
    "        decrypted_value = fernet.decrypt(encrypted_value.encode()).decode()\n",
    "        return decrypted_value\n",
    "    except Exception as e:\n",
    "        return None\n",
    "\n",
    "def decrypt_grades(id_number, csv_file_path):\n",
    "    try:\n",
    "        df = pd.read_csv(csv_file_path)\n",
    "        df['Decrypted_id_number'] = df['Encrypted_id_number'].apply(lambda x: decrypt_value(x, derive_key(id_number)))\n",
    "        row = df.loc[df['Decrypted_id_number'] == id_number]\n",
    "        if len(row) == 0:\n",
    "            print(f\"No grades found for ID number: {id_number}\")\n",
    "            return None\n",
    "        key = derive_key(id_number)\n",
    "        decrypted_row = {}\n",
    "        for column in row.columns:\n",
    "            if column.startswith('Encrypted_'):\n",
    "                encrypted_value = row[column].values[0]\n",
    "                if pd.notnull(encrypted_value):\n",
    "                    decrypted_value = decrypt_value(encrypted_value, key)\n",
    "                    decrypted_row[column[10:]] = decrypted_value\n",
    "                else:\n",
    "                    decrypted_row[column[10:]] = None\n",
    "\n",
    "        return decrypted_row\n",
    "    except Exception as e:\n",
    "        print(f\"Error decrypting grades: {str(e)}\")\n",
    "        return None\n",
    "\n",
    "id_number = input(\"Enter your ID number: \")\n",
    "\n",
    "csv_file_path = \"grades_encrypted.csv\"\n",
    "\n",
    "decrypted_grades = decrypt_grades(id_number, csv_file_path)\n",
    "\n",
    "if decrypted_grades is not None:\n",
    "    print(\"Decrypted Grades:\")\n",
    "    for column, value in decrypted_grades.items():\n",
    "        print(f\"{column}: {value}\")"
   ]
  }
 ],
 "metadata": {
  "kernelspec": {
   "display_name": "Python 3",
   "language": "python",
   "name": "python3"
  },
  "language_info": {
   "codemirror_mode": {
    "name": "ipython",
    "version": 3
   },
   "file_extension": ".py",
   "mimetype": "text/x-python",
   "name": "python",
   "nbconvert_exporter": "python",
   "pygments_lexer": "ipython3",
   "version": "3.11.7"
  }
 },
 "nbformat": 4,
 "nbformat_minor": 2
}
