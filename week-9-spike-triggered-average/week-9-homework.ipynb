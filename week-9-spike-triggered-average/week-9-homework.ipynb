{
 "cells": [
  {
   "cell_type": "markdown",
   "metadata": {},
   "source": [
    "# Biological Signals Analysis - Week 9 Homework\n",
    "\n",
    "## Due: Wednesday, March 20, 2024"
   ]
  },
  {
   "cell_type": "markdown",
   "metadata": {},
   "source": [
    "**Question 1.1**: Download the CSV files that contain the stock price data for Google and the S&P 500 index. Load this data into Matlab or Python for analysis. Ensure you have the correct data by checking the head of the dataframe or the first few entries of the data."
   ]
  },
  {
   "cell_type": "code",
   "execution_count": null,
   "metadata": {},
   "outputs": [],
   "source": [
    "** your code here **"
   ]
  },
  {
   "cell_type": "markdown",
   "metadata": {},
   "source": [
    "**Question 1.2**: Define what constitutes a 'spike' or 'event' in the S&P 500 stock data. There are several methodologies to characterize such events. Discuss at least two different approaches to defining a spike within your code's comments, but implement only one method. Use this method to convert the S&P 500 data into a regular spike train where each bin without a spike is zeroed out, and bins with spikes are set to 1."
   ]
  },
  {
   "cell_type": "code",
   "execution_count": null,
   "metadata": {},
   "outputs": [],
   "source": [
    "** your code here **"
   ]
  },
  {
   "cell_type": "markdown",
   "metadata": {},
   "source": [
    "**Question 3.3**: Visualize the original S&P 500 data alongside the newly created spike train. Plot both on the same graph or on adjacent graphs for comparison. Make sure the spike train accurately reflects the spikes as defined in question 3.2."
   ]
  },
  {
   "cell_type": "code",
   "execution_count": null,
   "metadata": {},
   "outputs": [],
   "source": [
    "** your code here **"
   ]
  },
  {
   "cell_type": "markdown",
   "metadata": {},
   "source": [
    "**Question 3.4**: Create a function to calculate the Spike-Triggered Average (STA) given a spike train, stimulus data, and a variable defining the window size for the average. The function should:\n",
    "\n",
    "1. Calculate a simple mean of the data within the window - do not use any weighting like Gaussian windows.\n",
    "2. Be robust to different window sizes, meaning it should handle cases where spikes occur close to the start of the data series without attempting to average non-existent data points before the start.\n",
    "\n",
    "Return a vector containing the STA values for each window around the spikes. Plot the STA vector. Analyze the plot to determine if there's any notable behavior that might predict the S&P 500 index based on Google's stock price fluctuations."
   ]
  },
  {
   "cell_type": "code",
   "execution_count": null,
   "metadata": {},
   "outputs": [],
   "source": [
    "** your code here **"
   ]
  }
 ],
 "metadata": {
  "language_info": {
   "name": "python"
  }
 },
 "nbformat": 4,
 "nbformat_minor": 2
}
