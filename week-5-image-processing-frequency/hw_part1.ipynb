{
 "cells": [
  {
   "cell_type": "markdown",
   "metadata": {},
   "source": [
    "## Biological Signals Analysis - Week 5 Homework Part 1 - SVD\n",
    "\n",
    "### Due: Feb. 14, 2024\n",
    "\n",
    "### Table of Contents:\n",
    "- Math Questions about SVD\n",
    "- Image Reconstruction using Singular Value Decomposition (SVD)\n",
    "- Record Your Observations"
   ]
  },
  {
   "cell_type": "markdown",
   "metadata": {},
   "source": [
    "### Math Questions about SVD\n",
    "\n",
    "Let $A \\in \\mathbb{R}^{m \\times n}$ and its Singular Value Decomposition (SVD) be $A = U\\Sigma V^T$, where:\n",
    "\n",
    "- The $i^{th}$ columns of $U$ and $V$ , respectively, are $u_i$ and $v_i$\n",
    "- The $i$th largest singular value of $A$ is $\\sigma_i$.\n",
    "- The number of nonzero singular values of $A$ is $r$.\n",
    "\n",
    "Prove that the rank of $A$, $\\text{rank}(A)$, is equal to $r$, the number of its nonzero singular values. "
   ]
  },
  {
   "cell_type": "markdown",
   "metadata": {},
   "source": [
    "your answer here"
   ]
  },
  {
   "cell_type": "markdown",
   "metadata": {},
   "source": [
    "Suppose we need to solve the linear system of equations $Ax \\approx b$ in the least squares sense. Namely, we wish to minimize $\\|b - Ax\\|_2^2$.\n",
    "\n",
    "Prove that $x_{LS} = V\\Sigma^{\\dagger}U^Tb = A^{\\dagger}b$, where and $Q^{\\dagger}$ denotes the pseudo-inverse of $Q$."
   ]
  },
  {
   "cell_type": "markdown",
   "metadata": {},
   "source": [
    "your answer here"
   ]
  },
  {
   "cell_type": "markdown",
   "metadata": {},
   "source": [
    "### Image Reconstruction using Singular Value Decomposition (SVD)\n",
    "\n",
    "In this exercise, you will explore the impact of SVD rank on image reconstruction. You will select an image from the kaggle dataset you've already downloaded last week, and apply SVD with various ranks to reconstruct the image. This process will help you understand the balance between compression (lower storage) and image quality.\n",
    "\n",
    "#### Instructions\n",
    "\n",
    "##### 1. Select an Image\n",
    "First, select an image from the dataset to work with.\n",
    "\n",
    "##### 2. Apply SVD with Different Ranks\n",
    "Apply Singular Value Decomposition (SVD) to the selected image with the following ranks: `3, 10, 20, 50, 100`.\n",
    "\n",
    "For each specified rank, reconstruct the image using only the top-k singular values and vectors. You can do this by modifying the S matrix to zero out all but the top-k singular values and then performing matrix multiplication to get the reconstructed image."
   ]
  },
  {
   "cell_type": "code",
   "execution_count": null,
   "metadata": {},
   "outputs": [],
   "source": [
    "** Your Code Here **"
   ]
  },
  {
   "cell_type": "markdown",
   "metadata": {},
   "source": [
    "### Record Your Observations\n",
    "\n",
    "After reconstructing the images with different ranks, observe and note how the choice of rank affects the reconstruction. Consider the following:\n",
    "\n",
    "How does the image clarity change with increasing rank?\n",
    "At which rank do you observe the best balance between noise reduction and image detail?"
   ]
  },
  {
   "cell_type": "markdown",
   "metadata": {},
   "source": [
    "your observations here"
   ]
  },
  {
   "cell_type": "markdown",
   "metadata": {},
   "source": [
    "### Choose the Best Rank\n",
    "\n",
    "Based on your observations, select a rank that you believe offers the best trade-off between noise, storage, and image quality. This rank does not necessarily have to be one of the ranks you previously computed. Reconstruct the image at this rank and explain why you chose it, considering factors like storage implications and visual fidelity. Record your observations."
   ]
  },
  {
   "cell_type": "code",
   "execution_count": null,
   "metadata": {},
   "outputs": [],
   "source": [
    "** your code here **"
   ]
  },
  {
   "cell_type": "markdown",
   "metadata": {},
   "source": [
    "your observations here"
   ]
  }
 ],
 "metadata": {
  "language_info": {
   "name": "python"
  }
 },
 "nbformat": 4,
 "nbformat_minor": 2
}
