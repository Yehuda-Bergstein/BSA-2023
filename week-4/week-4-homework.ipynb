{
 "cells": [
  {
   "cell_type": "markdown",
   "metadata": {},
   "source": [
    "## Biological Signals Analysis - Week 4 Homework\n",
    "\n",
    "### Due: Feb. 14, 2024\n",
    "\n",
    "### Table of Contents\n",
    "- Part I: Exploring and Visualizing Microscopy Dataset\n",
    "- "
   ]
  },
  {
   "cell_type": "markdown",
   "metadata": {},
   "source": [
    "### Part I: Exploring and Visualizing Microscopy Dataset\n",
    "\n",
    "The dataset for this exercise was part of a competition on Kaggle sponsored by Sartorius AG, and can be accessed through the following link: [Sartorius - Cell Instance Segmentation](https://www.kaggle.com/competitions/sartorius-cell-instance-segmentation/overview). \n",
    "\n",
    "Your first task is to download this dataset and use Python to explore and visualize it. Your exploration should include, but is not limited to, the following:\n",
    "   - Load several images from the dataset.\n",
    "   - Display some of the images using a Python library of your choice\n",
    "   - Print out the shape and characteristics of the dataset, including dimensions of the images and any other relevant information.\n",
    "   - Discuss any observations you have about the dataset based on your initial exploration.\n",
    "\n",
    "\n",
    "Example notebooks that were submitted for the original competition, and may be helpful in this exercise, are available under the \"Code\" section of the dataset's website on Kaggle. A particularly useful example to get you started is this notebook: [Train Sartorius - Segmentation EDA - EffDet - TF](https://www.kaggle.com/code/dschettler8845/train-sartorius-segmentation-eda-effdet-tf)."
   ]
  },
  {
   "cell_type": "code",
   "execution_count": null,
   "metadata": {},
   "outputs": [],
   "source": [
    "** Insert Code Here **"
   ]
  },
  {
   "cell_type": "markdown",
   "metadata": {},
   "source": [
    "** Record Observations Here **"
   ]
  },
  {
   "cell_type": "markdown",
   "metadata": {},
   "source": [
    "### Part II: Exploring and Visualizing Microscopy Dataset\n"
   ]
  },
  {
   "cell_type": "code",
   "execution_count": null,
   "metadata": {},
   "outputs": [],
   "source": []
  }
 ],
 "metadata": {
  "language_info": {
   "name": "python"
  }
 },
 "nbformat": 4,
 "nbformat_minor": 2
}
