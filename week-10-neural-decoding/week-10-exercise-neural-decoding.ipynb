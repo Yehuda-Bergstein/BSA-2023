{
 "cells": [
  {
   "cell_type": "markdown",
   "metadata": {},
   "source": [
    "# Biological Signals Analysis - Week 10 Exercise\n",
    "# Neural Decoding\n",
    "### March 13, 2024"
   ]
  },
  {
   "cell_type": "markdown",
   "metadata": {},
   "source": [
    "### Introduction to Neural Decoding\n",
    "\n",
    "Decoding in neuroscience refers to the interpretation of neural signals to infer the original sensory stimulus or the intended motor action. This field holds significant importance in understanding brain function and developing brain-computer interfaces.\n",
    "In this session, we'll explore the principles and applications of Linear Stimulus Reconstruction (LSR) in neural coding. LSR is a method used to predict the external stimulus that caused a neuron's spike activity. We will discuss its mathematical foundation, introduce the concepts of linear filtering, and the role of least-squares regression in decoding neural signals."
   ]
  },
  {
   "cell_type": "markdown",
   "metadata": {},
   "source": [
    "#### Part 1: Bayesian Framework for Neural Decoding\n",
    "\n",
    "Bayes' theorem is a foundational principle in probability theory and statistics, and it is crucial for understanding the process of neural decoding. In the context of neuroscience, neural decoding involves interpreting the spikes or firing rates from neurons in response to stimuli. Let's break down Bayes' theorem and its key components, which we will use throughout our exploration of neural decoding:\n",
    "\n",
    "- **$ r $**: Represents the firing rate or the response of our neural system.\n",
    "- **$ s $**: Denotes the stimulus.\n",
    "- **$ P(s) $**: The probability of a stimulus $ s $ being presented.\n",
    "- **$ P(r) $**: The probability of receiving a response $ r $.\n",
    "- **$ P(r, s) $**: The joint probability of both stimulus $ s $ and response $ r $ occurring.\n",
    "- **$ P(r|s) $**: The probability of evoking response $ r $ given that stimulus $ s $ was presented (the encoding probability).\n",
    "- **$ P(s|r) $**: The probability of stimulus $ s $ being presented given the response $ r $ (the decoding probability).\n",
    "\n",
    "Bayes' theorem provides a way to update our probability estimates for a hypothesis as we gain more evidence. It is written as:\n",
    "\n",
    "$ P(s|r) = \\frac{P(r|s)P(s)}{P(r)} $\n",
    "\n",
    "In words, Bayes' theorem states that the probability of the stimulus given the response is equal to the probability of the response given the stimulus times the probability of the stimulus, all divided by the probability of the response.\n",
    "\n",
    "This theorem allows us to reverse the conditional probability, thereby moving from the probability of observing the data given a known hypothesis (the encoding model) to the probability of the hypothesis given the observed data (the decoding model)."
   ]
  },
  {
   "cell_type": "code",
   "execution_count": 1,
   "metadata": {},
   "outputs": [
    {
     "name": "stdout",
     "output_type": "stream",
     "text": [
      "The probability of the stimulus given the response (P(s|r)) is: 0.47\n"
     ]
    }
   ],
   "source": [
    "import numpy as np\n",
    "\n",
    "# Define probabilities\n",
    "P_s = 0.2  # P(s) - the prior probability of the stimulus\n",
    "P_r_given_s = 0.7  # P(r|s) - the probability of the response given the stimulus\n",
    "P_r = 0.3  # P(r) - the probability of the response\n",
    "\n",
    "# Apply Bayes' theorem to find P(s|r)\n",
    "P_s_given_r = (P_r_given_s * P_s) / P_r\n",
    "\n",
    "print(f\"The probability of the stimulus given the response (P(s|r)) is: {P_s_given_r:.2f}\")"
   ]
  },
  {
   "cell_type": "markdown",
   "metadata": {},
   "source": [
    "In the above example, we have chosen arbitrary values for $ P(s) $, $ P(r|s) $, and $ P(r) $. By plugging these into Bayes' theorem, we calculate the posterior probability $ P(s|r) $, which gives us an updated belief about the occurrence of the stimulus given the response we've observed. This process is at the heart of neural decoding, where we interpret neuronal firing rates to determine the most likely stimulus that caused them."
   ]
  },
  {
   "cell_type": "markdown",
   "metadata": {},
   "source": [
    "#### Part 1.1: Discrimination in Neural Decoding\n",
    "\n",
    "Discrimination is a fundamental task of a decoding system, where the goal is to categorize the input, often a stimulus, into one of two discrete categories or values. In the context of neural decoding, this often comes down to deciding between two different stimuli based on the firing rates of neurons. This concept was elegantly demonstrated in a landmark study by Britten et al. in 1992, using a visual stimulus of moving dots with varying degrees of coherence to determine the firing rate response of neurons in the monkey's MT (middle temporal) area.\n",
    "\n",
    "In the experiment, the monkeys were required to discriminate the direction of motion of the dots. When the coherence was high enough (over a certain threshold, such as 10%), the monkeys could discriminate the motion direction with high probability. This task is binary—there are only two choices—and the neuron's response can be thought of as a vote for one choice or the other.\n",
    "\n",
    "The discrimination task can be understood in terms of signal detection theory, where we define:\n",
    "\n",
    "- **$ d $**: The sensitivity index, a measure of how separated the neural response distributions are for the two choices. A higher $ d $ means the distributions are further apart, making it easier to discriminate.\n",
    "- **$ z $**: The decision criterion, a threshold value of the firing rate. If the observed firing rate $ r $ is greater than $ z $, we categorize the stimulus as $ r+ $; otherwise, as $ r- $.\n",
    "\n",
    "Given a particular criterion $ z $, we can define two key probabilities:\n",
    "- **Hit Rate (Power, $ \\beta(z) $)**: The probability that the response will be $ r+ $ (correctly identifying a stimulus as $ r+ $) when the stimulus is actually $ r+ $. Mathematically, it's $ P(r \\geq z | +) $.\n",
    "- **False Alarm Rate (Size, $ \\alpha(z) $)**: The probability that the response will be $ r+ $ when the stimulus is actually $ r- $. This is denoted by $ P(r \\geq z | -) $.\n",
    "\n",
    "These probabilities are crucial for constructing Receiver Operating Characteristic (ROC) curves, which graphically represent the trade-off between hit rates and false alarms as the decision criterion $ z $ varies.\n",
    "\n",
    "We will simulate the process of discrimination by generating two Gaussian-distributed firing rates, one for each stimulus direction, and calculating the hit rate and false alarm rate for a range of decision criteria."
   ]
  },
  {
   "cell_type": "code",
   "execution_count": 2,
   "metadata": {},
   "outputs": [
    {
     "data": {
      "image/png": "[encoded data removed]",
      "text/plain": [
       "<Figure size 640x480 with 1 Axes>"
      ]
     },
     "metadata": {},
     "output_type": "display_data"
    }
   ],
   "source": [
    "import numpy as np\n",
    "import matplotlib.pyplot as plt\n",
    "from scipy.stats import norm\n",
    "\n",
    "# Define the distributions for two stimuli responses (r+ and r-)\n",
    "r_plus_mean = 40  # Mean firing rate for r+\n",
    "r_minus_mean = 10  # Mean firing rate for r-\n",
    "common_std = 5  # Standard deviation for both distributions\n",
    "\n",
    "# Define a range of decision criteria (z)\n",
    "z_values = np.linspace(0, 50, 100)\n",
    "\n",
    "# Calculate hit rate (power) and false alarm rate (size) for each z\n",
    "hit_rates = [1 - norm.cdf(z, loc=r_plus_mean, scale=common_std) for z in z_values]\n",
    "false_alarm_rates = [1 - norm.cdf(z, loc=r_minus_mean, scale=common_std) for z in z_values]\n",
    "\n",
    "# Plot the ROC curve\n",
    "plt.plot(false_alarm_rates, hit_rates, label='ROC Curve')\n",
    "plt.xlabel('False Alarm Rate (Size)')\n",
    "plt.ylabel('Hit Rate (Power)')\n",
    "plt.title('ROC Curve for Neural Discrimination')\n",
    "plt.legend()\n",
    "plt.show()\n"
   ]
  },
  {
   "cell_type": "markdown",
   "metadata": {},
   "source": [
    "This Python script uses the `norm.cdf` function from the `scipy.stats` module to compute the cumulative distribution function (CDF) for Gaussian distributions representing the neuron's firing rate response to two stimuli. By comparing these against a range of decision criteria (`z_values`), we can calculate the corresponding hit rates and false alarm rates to plot an ROC curve. This curve visualizes the trade-offs between correctly detecting stimuli (`r+`) and falsely detecting stimuli (`r-`) as the decision criterion varies."
   ]
  },
  {
   "cell_type": "markdown",
   "metadata": {},
   "source": [
    "#### Part 2: Receiver Operating Characteristic (ROC) Curves\n",
    "\n",
    "ROC curves are graphical plots that illustrate the diagnostic ability of a binary classifier system as its discrimination threshold is varied. They are used to evaluate the trade-offs between true positive rates (sensitivity) and false positive rates (1-specificity) across different threshold settings.\n",
    "\n",
    "In the context of neural decoding, each point on an ROC curve represents a different threshold value for the firing rate at which the neuron's response switches from one decision to another (e.g., from deciding the stimulus is moving left to deciding it is moving right).\n",
    "\n",
    "The extremities of the ROC curve represent the following scenarios:\n",
    "- When the threshold $ z = 0 $, all responses are considered a 'hit,' leading to a high rate of hits but also a high rate of false alarms. This corresponds to a point in the upper right corner of the ROC curve ($ \\alpha = \\beta = 1 $).\n",
    "- Conversely, a very high threshold $ z $ will result in no responses being considered a 'hit,' reducing both hits and false alarms to zero, corresponding to the lower left corner of the ROC curve ($ \\alpha = \\beta = 0 $).\n",
    "\n",
    "The ideal spot on the ROC curve is the top-left corner, signifying maximal sensitivity (hit rate) and minimal false alarm rate. The area under the ROC curve (AUC) is a measure of how well the classifier can distinguish between the two classes; an AUC of 0.5 corresponds to chance level, while an AUC of 1.0 corresponds to perfect classification.\n",
    "\n",
    "For the Python demonstration, we will simulate the neuron's response to two stimuli and calculate the ROC curve, including the AUC."
   ]
  },
  {
   "cell_type": "code",
   "execution_count": null,
   "metadata": {},
   "outputs": [],
   "source": [
    "from sklearn.metrics import roc_curve, auc\n",
    "\n",
    "# Assume we have collected neural responses to two stimuli (r+ and r-)\n",
    "# These responses are represented as arrays where each entry is the firing rate for a particular trial\n",
    "# For simplicity, we are generating random data\n",
    "np.random.seed(0)\n",
    "r_plus_responses = np.random.normal(loc=40, scale=5, size=1000)\n",
    "r_minus_responses = np.random.normal(loc=20, scale=5, size=1000)\n",
    "\n",
    "# Combine the responses and create labels (1 for r+ and 0 for r-)\n",
    "responses = np.concatenate([r_plus_responses, r_minus_responses])\n",
    "labels = np.concatenate([np.ones_like(r_plus_responses), np.zeros_like(r_minus_responses)])\n",
    "\n",
    "# Compute ROC curve and ROC area\n",
    "fpr, tpr, thresholds = roc_curve(labels, responses)\n",
    "roc_auc = auc(fpr, tpr)\n",
    "\n",
    "# Plot ROC curve\n",
    "plt.figure()\n",
    "plt.plot(fpr, tpr, color='darkorange', lw=2, label=f'ROC curve (area = {roc_auc:.2f})')\n",
    "plt.plot([0, 1], [0, 1], color='navy', lw=2, linestyle='--')\n",
    "plt.xlim([0.0, 1.0])\n",
    "plt.ylim([0.0, 1.05])\n",
    "plt.xlabel('False Positive Rate')\n",
    "plt.ylabel('True Positive Rate')\n",
    "plt.title('Receiver Operating Characteristic')\n",
    "plt.legend(loc=\"lower right\")\n",
    "plt.show()"
   ]
  },
  {
   "cell_type": "markdown",
   "metadata": {},
   "source": [
    "In the Python code, we've simulated neural responses to two stimulus types using a normal distribution for each stimulus type's response. We then calculate the true positive rate (TPR) and false positive rate (FPR) to plot the ROC curve. The `roc_curve` function from `sklearn.metrics` is used to calculate the TPR and FPR across various thresholds, and `auc` is used to calculate the area under the ROC curve. This plot gives us a visual representation of the classifier's performance across different thresholds."
   ]
  },
  {
   "cell_type": "markdown",
   "metadata": {},
   "source": [
    "#### Part 2.1: Two-alternative Forced Choice (2AFC) Test in Neural Decoding\n",
    "\n",
    "The Two-alternative Forced Choice (2AFC) test is a method used to assess the discriminative ability of a subject when presented with two distinct stimuli. Instead of asking whether the stimulus is present or not, the 2AFC test asks which of two stimuli is being presented. This methodology effectively sets a relative threshold (the decision criterion z) based on the comparison between the two presented stimuli.\n",
    "\n",
    "In the context of neural decoding, the 2AFC test could be used to determine how the brain discriminates between two different firing rates corresponding to different stimuli directions. The test forces the subject (or decoding system) to compare the current stimulus with a reference or previous stimulus, thereby setting a relative threshold for discrimination."
   ]
  },
  {
   "cell_type": "code",
   "execution_count": 3,
   "metadata": {},
   "outputs": [
    {
     "name": "stdout",
     "output_type": "stream",
     "text": [
      "The probability of correctly identifying the stimulus as + given r1 >= z is: 0.91\n"
     ]
    }
   ],
   "source": [
    "# Assuming r1 and r2 are the firing rates for two consecutive trials with different stimuli (+ and -)\n",
    "# For the purpose of illustration, we'll generate these rates from normal distributions\n",
    "\n",
    "# Define the mean firing rates for stimulus + and -\n",
    "mean_r_plus = 50  # Firing rate for stimulus +\n",
    "mean_r_minus = 30  # Firing rate for stimulus -\n",
    "\n",
    "# Generate firing rates for two consecutive trials\n",
    "np.random.seed(42)  # For reproducibility\n",
    "r1 = np.random.normal(mean_r_plus, 10, 1000)  # Responses for stimulus +\n",
    "r2 = np.random.normal(mean_r_minus, 10, 1000)  # Responses for stimulus -\n",
    "\n",
    "# The probability of correctly identifying r1 as greater given it is from the + distribution\n",
    "# For simplicity, we'll assume the decision threshold z is equal to r2\n",
    "correct_identification = np.mean(r1 >= r2)\n",
    "\n",
    "print(f\"The probability of correctly identifying the stimulus as + given r1 >= z is: {correct_identification:.2f}\")\n"
   ]
  },
  {
   "cell_type": "markdown",
   "metadata": {},
   "source": [
    "#### Part 2.2: Likelihood Ratio Test in Neural Decoding\n",
    "\n",
    "The Likelihood Ratio Test (LRT) is another decision-making strategy used in neural decoding. Instead of directly comparing the firing rate to a threshold, LRT compares the ratio of the probabilities of the firing rate given two different stimuli. This is mathematically represented as:\n",
    "\n",
    "$ l(r) = \\frac{P(r|+)}{P(r|-)} $\n",
    "\n",
    "This ratio compares the likelihood of observing the firing rate $ r $ under the hypothesis that the stimulus is $ + $ versus the hypothesis that the stimulus is $ - $. An optimal decision rule would be to choose the stimulus that maximizes this likelihood ratio.\n",
    "\n",
    "For the Britten et al. experiment, this translates to a monotonically increasing function, meaning as the firing rate increases, the likelihood ratio also increases, allowing for a straightforward discrimination between the two hypotheses.\n"
   ]
  },
  {
   "cell_type": "code",
   "execution_count": null,
   "metadata": {},
   "outputs": [],
   "source": [
    "# Define the likelihoods of r given + and r given - from the previous distributions\n",
    "likelihood_r_given_plus = norm.pdf(r1, loc=mean_r_plus, scale=10)\n",
    "likelihood_r_given_minus = norm.pdf(r1, loc=mean_r_minus, scale=10)\n",
    "\n",
    "# Compute the likelihood ratio for each response r1\n",
    "likelihood_ratios = likelihood_r_given_plus / likelihood_r_given_minus\n",
    "\n",
    "# An optimal decision rule based on LRT would be to decide + if l(r) > 1, - otherwise\n",
    "decisions = likelihood_ratios > 1\n",
    "correct_decisions = decisions == (r1 > r2)  # Assuming r1 comes from + and r2 comes from -\n",
    "\n",
    "# Calculate the percentage of correct decisions\n",
    "percentage_correct = np.mean(correct_decisions)\n",
    "\n",
    "print(f\"The percentage of correct decisions using LRT is: {percentage_correct:.2f}\")"
   ]
  },
  {
   "cell_type": "markdown",
   "metadata": {},
   "source": [
    "In this Python example, we use the `norm.pdf` function to calculate the likelihood of observing each firing rate under both hypotheses. We then calculate the likelihood ratios and make decisions based on these ratios. The percentage of correct decisions gives an estimate of the discriminability of the two stimuli when using the Likelihood Ratio Test."
   ]
  }
 ],
 "metadata": {
  "kernelspec": {
   "display_name": "Python 3",
   "language": "python",
   "name": "python3"
  },
  "language_info": {
   "codemirror_mode": {
    "name": "ipython",
    "version": 3
   },
   "file_extension": ".py",
   "mimetype": "text/x-python",
   "name": "python",
   "nbconvert_exporter": "python",
   "pygments_lexer": "ipython3",
   "version": "3.11.7"
  }
 },
 "nbformat": 4,
 "nbformat_minor": 2
}
