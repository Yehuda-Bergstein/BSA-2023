{
 "cells": [
  {
   "cell_type": "markdown",
   "metadata": {},
   "source": [
    "# Biological Signals Analysis - Week 3 Exercise\n",
    "\n",
    "### Created by Guy Singer | Jan. 17, 2024\n",
    "\n",
    "### Due By: Jan. 24, 2024 (14:00 IST)\n",
    "\n",
    "### Table of Contents:\n",
    "- Convolutions\n",
    "- Comparing Finite Impulse Response (FIR) and Infinite Impulse Response (IIR) Filters\n",
    "- Autoregressive Filter (Infinite Impulse Response, IIR)\n",
    "- Finite Impulse Response (FIR) Filters\n"
   ]
  },
  {
   "cell_type": "markdown",
   "metadata": {},
   "source": [
    "# Convolutions <a id=\"convolutions\" ></a>"
   ]
  },
  {
   "cell_type": "markdown",
   "metadata": {},
   "source": [
    "Convolution, often denoted with $ \\circledast $ is a fundamental operation in signal processing, especially relevant in neurophysiological signal analysis. It involves combining two signals to form a third signal, illustrating how one signal modifies the other over time.\n",
    "\n",
    "For two discrete signals $ x[n] $ and $ h[n] $, their convolution is represented as:\n",
    "\n",
    "$\n",
    "y[n] = \\sum_{k=-\\infty}^{\\infty} x[k] \\cdot h[n-k]\n",
    "$\n",
    "\n",
    "- $ y[n] $ is the convolved signal.\n",
    "- $ x[n] $ is the input signal.\n",
    "- $ h[n] $ is the impulse response or another input signal.\n",
    "\n",
    "**Reminder:** The Fourier Transform provides a way to transform a signal from the time domain to the frequency domain (omega domain). The Fourier Transform of a signal $ x[n] $ is denoted as $ X(\\omega) $.\n",
    "\n",
    "A key property of the Fourier Transform, known as the Convolution Theorem, states that convolution in the time domain is equivalent to multiplication in the frequency domain. This theorem simplifies the process of convolution, especially for complex signals.\n",
    "\n",
    "If $ x[n] $ and $ h[n] $ are two signals with Fourier Transforms $ X(\\omega) $ and $ H(\\omega) $ respectively, then the convolution of $ x[n] $ and $ h[n] $ is equivalent to the multiplication of $ X(\\omega) $ and $ H(\\omega) $:\n",
    "\n",
    "$\n",
    "y[n] \\longleftrightarrow Y(\\omega)\n",
    "$\n",
    "\n",
    "$\n",
    "F\\{X(t) \\circledast H(t)\\} = X(\\omega) \\cdot H(\\omega) = Y(\\omega)\n",
    "$\n",
    "\n",
    "- $ Y(\\omega) $ is the Fourier Transform of the convolved signal $ y[n] $.\n",
    "- The multiplication of $ X(\\omega) $ and $ H(\\omega) $ in the frequency domain gives the Fourier Transform of the convolved signal.\n",
    "\n",
    "This principle allows researchers to perform convolution operations more efficiently by transforming signals into the frequency domain, multiplying them, and then transforming the result back into the time domain. This approach is particularly advantageous when dealing with complex signals or when implementing linear time-invariant (LTI) systems.\n",
    "\n",
    "\n",
    "### Hand-Drawn Example: Convolving The Outcome Distributions of two Dice\n"
   ]
  },
  {
   "cell_type": "markdown",
   "metadata": {},
   "source": [
    "## Comparing Finite Impulse Response (FIR) and Infinite Impulse Response (IIR) Filters <a id=\"firvsiir\"></a>\n",
    "\n",
    "Both FIR and IIR filters have their place in signal processing. FIR filters are preferred when phase linearity and stability are crucial, while IIR filters are more efficient and suited for applications where these concerns are secondary.\n",
    "\n",
    "----------------------\n",
    "\n",
    "### Finite Impulse Response (FIR) Filters\n",
    "\n",
    "**Definition**: FIR filters produce an output that only depends on the current and a finite number of previous input values.\n",
    "\n",
    "  $\n",
    "  y[n] = \\sum_{k=0}^{M-1} b_k \\cdot x[n-k]\n",
    "  $\n",
    "  \n",
    "  where $ y[n] $ is the output, $ x[n] $ is the input, $ b_k $ are the filter coefficients, and $ M $ is the order of the filter.\n",
    "\n",
    "----------------------\n",
    "\n",
    "### Infinite Impulse Response (IIR) Filters\n",
    "\n",
    "**Definition**: IIR filters produce an output that depends on the current and previous input values as well as previous output values.\n",
    "\n",
    "  $\n",
    "  y[n] = \\sum_{k=0}^{M-1} b_k \\cdot x[n-k] - \\sum_{k=1}^{N} a_k \\cdot y[n-k]\n",
    "  $\n",
    "\n",
    "  where $ a_k $ are the feedback coefficients and $ N $ is the order of the feedback part of the filter.\n",
    "\n",
    "----------------------\n",
    "\n",
    "### Key Differences\n",
    "\n",
    "1. **Impulse Response Duration**:\n",
    "   - FIR: Has a finite duration, determined by the number of coefficients $ M $.\n",
    "   - IIR: Theoretically infinite duration due to feedback; a single input can affect the output indefinitely.\n",
    "\n",
    "2. **Stability**:\n",
    "   - FIR: Inherently stable since the output does not depend on previous outputs.\n",
    "   - IIR: Can be unstable if not properly designed, especially due to the feedback component.\n",
    "\n",
    "3. **Phase Response**:\n",
    "   - FIR: Can be easily designed to have a linear phase response, avoiding signal distortion.\n",
    "   - IIR: Typically has a nonlinear phase response, which can cause signal distortion.\n",
    "\n",
    "4. **Computational Complexity**:\n",
    "   - FIR: Generally requires more computational resources for a comparable frequency response.\n",
    "   - IIR: More computationally efficient due to feedback, but requires careful design to ensure stability.\n"
   ]
  },
  {
   "cell_type": "markdown",
   "metadata": {},
   "source": [
    "# Autoregressive Filter (Infinite Impulse Response, IIR) <a id=\"iir\"></a>"
   ]
  },
  {
   "cell_type": "markdown",
   "metadata": {},
   "source": [
    "The autoregressive filter is a type of digital filter that operates on input signals to produce an output signal. Its primary characteristic is that the output is computed as a linear combination of the current and past input values as well as past output values. This recursive nature is why it's called \"infinite impulse response\" – theoretically, a single input impulse can affect the output indefinitely.\n",
    "\n",
    "## Mathematical Representation\n",
    "\n",
    "The general form of an autoregressive filter of order $p$ is given by:\n",
    "\n",
    "$\n",
    "y[n] = -\\sum_{k=1}^{p} a_k \\cdot y[n-k] + x[n]\n",
    "$\n",
    "\n",
    "Where:\n",
    "- $y[n]$ is the output signal at time $n$,\n",
    "- $x[n]$ is the input signal at time $ n $,\n",
    "- $ a_k $ are the filter coefficients, and\n",
    "- $ p $ is the order of the filter, determining how many past output values are used.\n",
    "\n",
    "The negative sign in front of the summation indicates that the filter is typically implemented as a feedback system.\n",
    "\n",
    "## Application in Neuroscience\n",
    "\n",
    "In neuroscience, autoregressive filters can be used for various purposes, such as:\n",
    "- **Noise Reduction**: Reducing noise in neural recordings, thereby enhancing signal quality.\n",
    "- **Feature Extraction**: Extracting features from neural signals for tasks like spike sorting or identifying specific neural patterns.\n",
    "- **Signal Prediction**: Predicting future neural activity based on past data, which can be useful in brain-computer interfaces or understanding neural dynamics.\n",
    "\n",
    "## Practical Considerations\n",
    "\n",
    "- **Stability**: Not all sets of coefficients $ a_k $ lead to a stable filter. Stability is typically ensured when the poles of the filter's transfer function are within the unit circle in the z-plane.\n",
    "- **Design**: The design of the filter (choosing appropriate coefficients) is crucial and depends on the characteristics of the signal and the specific application in neuroscience.\n",
    "- **Computational Efficiency**: Autoregressive filters are generally more computationally efficient than their non-recursive counterparts, making them suitable for real-time applications.\n"
   ]
  },
  {
   "cell_type": "markdown",
   "metadata": {},
   "source": [
    "# Finite Impulse Response (FIR) Filters <a id='fir'></a>"
   ]
  },
  {
   "cell_type": "markdown",
   "metadata": {},
   "source": [
    "Finite Impulse Response (FIR) filters are a class of digital filters that are critical in signal processing, particularly in the field of neuroscience. Unlike Infinite Impulse Response (IIR) filters, FIR filters have a finite duration of response to an input impulse, as their output is only dependent on current and past input values, not past output values. This characteristic makes FIR filters inherently stable and free from feedback loops.\n",
    "\n",
    "## The Moving Average Filter - A Prime Example\n",
    "\n",
    "A common example of an FIR filter is the Moving Average Filter, which is used to smooth data by averaging a set number of past input values. This is particularly useful in neuroscience for smoothing noisy neural data.\n",
    "\n",
    "### Mathematical Representation\n",
    "\n",
    "The Moving Average Filter can be mathematically expressed as:\n",
    "\n",
    "$\n",
    "y[n] = \\frac{1}{M} \\sum_{k=0}^{M-1} x[n-k]\n",
    "$\n",
    "\n",
    "Where:\n",
    "- $ y[n] $ is the output signal at time $ n $,\n",
    "- $ x[n] $ is the input signal at time $ n $,\n",
    "- $ M $ is the number of points in the moving average, determining the length of the filter.\n",
    "\n",
    "The output at each point $ n $ is the average of the last $ M $ input points, which smooths out rapid fluctuations in the input signal.\n",
    "\n",
    "## Application in Neuroscience\n",
    "\n",
    "In neuroscience, the Moving Average Filter is particularly useful for:\n",
    "- **Noise Reduction**: Smoothing out random noise in neural recordings.\n",
    "- **Signal Preprocessing**: Preparing neural data for further analysis, such as feature extraction or spike detection.\n",
    "\n",
    "## Advantages of FIR Filters in Neuroscience\n",
    "\n",
    "- **Stability**: FIR filters are inherently stable, a desirable feature when dealing with sensitive neural data.\n",
    "- **Linear Phase Response**: FIR filters can be designed to have a linear phase response, ensuring no phase distortion of the signal.\n",
    "- **Flexibility in Design**: FIR filters can be tailored to specific requirements, such as specific frequency responses, making them versatile for various applications in neuroscience.\n"
   ]
  },
  {
   "cell_type": "markdown",
   "metadata": {},
   "source": []
  }
 ],
 "metadata": {
  "kernelspec": {
   "display_name": "Python 3",
   "language": "python",
   "name": "python3"
  },
  "language_info": {
   "codemirror_mode": {
    "name": "ipython",
    "version": 3
   },
   "file_extension": ".py",
   "mimetype": "text/x-python",
   "name": "python",
   "nbconvert_exporter": "python",
   "pygments_lexer": "ipython3",
   "version": "3.11.6"
  }
 },
 "nbformat": 4,
 "nbformat_minor": 2
}
