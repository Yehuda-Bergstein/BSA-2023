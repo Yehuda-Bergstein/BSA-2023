{
 "cells": [
  {
   "cell_type": "markdown",
   "metadata": {},
   "source": [
    "### For your final homework, you will schedule a 15-20 minute conversation with me where you will discuss one topic in-depth from the course. Please come prepared with notes and an explanation of why you fuond this topic especially interesting.\n",
    "\n",
    "### **important note**: the final date to schedule this conversation and submit the homework is March 31, 2024.\n",
    "\n",
    "### Use the following link to schedule the conversation:\n",
    "\n",
    "### [https://calendly.com/guysinger/30min](https://calendly.com/guysinger/30min)"
   ]
  }
 ],
 "metadata": {
  "language_info": {
   "name": "python"
  }
 },
 "nbformat": 4,
 "nbformat_minor": 2
}
