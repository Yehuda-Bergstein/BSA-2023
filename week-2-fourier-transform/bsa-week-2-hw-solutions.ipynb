{
 "cells": [
  {
   "cell_type": "markdown",
   "metadata": {},
   "source": [
    "# Biological Signals Analysis - Week 2 Homework\n",
    "\n",
    "## January 11, 2024\n",
    "\n",
    "## Table of Contents\n",
    "- [Math Exercises - Dirac's Delta and Discrete Fourier Transforms](#math-exercises)\n",
    "    - [Question 1: Approximating Dirac's Delta Function with a Gaussian](#question-1)\n",
    "    - [Question 2: Extracting Values from a Continuous Function Using Dirac's Delta](#question-2)\n",
    "    - [Question 3: Mathematical Expression of Discrete Fourier Transform (DFT)](#question-3)\n",
    "    - [Question 4: Conceptual Understanding of Time Domain to Frequency Domain](#question-4)\n",
    "- [Programming Exercises - Analyzing EEG Data](#programming-exercises)\n",
    "    - [Loading and Visualizing the EEG Data](#loading-data)\n",
    "    - [Question 5: Record Your Observations](#question-5)\n",
    "    - [Question 6: Sampling in Time](#question-6)\n",
    "    - [Question 7: Fourier Transform of the EEG Data](#question-7)\n",
    "    - [Question 8: record observations about the frequency plot](#question-8)\n",
    "    - [Decibel Scaling](#decibel-scale)\n",
    "    - [Question 9: interpreting decibel scale results](#question-9)\n",
    "    - [The Spectrogram](#spectrogram)"
   ]
  },
  {
   "cell_type": "markdown",
   "metadata": {},
   "source": [
    "<a id=\"math-exercises\"></a>\n",
    "## Math Exercises - Dirac's Delta and Discreet Fourier Transforms\n",
    "\n",
    "The first portion of this homework assignment contains mathematics questions related to the topics covered this week (sampling in time and transformations into the frequency domain).\n",
    "Please write your answers using the Jupyter markup cell’s LaTeX interpreter, or embed a scanned image/pdf of your answers into the markup cell.\n",
    "\n",
    "More information about LaTeX and Jupyter markdown formatting can be found here:\n",
    "\n",
    "[https://jupyterbook.org/en/stable/content/math.html](https://jupyterbook.org/en/stable/content/math.html)\n",
    "\n",
    "And Here:\n",
    "\n",
    "[https://ashki23.github.io/markdown-latex.html](https://ashki23.github.io/markdown-latex.html)"
   ]
  },
  {
   "cell_type": "markdown",
   "metadata": {},
   "source": [
    "<a id=\"question-1\"></a>\n",
    "### Question 1: Approximating Dirac's Delta Function with a Gaussian\n",
    "It's often useful to approximate the Dirac Delta function, $(\\delta(x))$, with a Gaussian function for practical implementations. Consider a Gaussian function of the form \n",
    "\n",
    "$G(x) = \\frac{1}{\\sigma\\sqrt{2\\pi}} e^{-\\frac{x^2}{2\\sigma^2}}$\n",
    "\n",
    "Where $\\sigma$ is the standard deviation. \n",
    "\n",
    "**Task:** \n",
    "- Derive an expression for $G(x)$ as $\\sigma$ approaches zero, and discuss how this relates to the Dirac Delta function.\n",
    "- Explain the implications of this approximation in the context processing continuous signals.\n",
    "\n",
    "Write your answer in the following markdown cell:"
   ]
  },
  {
   "cell_type": "markdown",
   "metadata": {},
   "source": [
    "\n",
    "\n",
    "---\n",
    "\n",
    "To answer **Question 1**:\n",
    "\n",
    "- As $\\sigma$ approaches zero, the Gaussian function becomes infinitely narrow and tall, converging to the Dirac Delta function. The Dirac Delta function, $\\delta(x)$, is not a function in the traditional sense but a distribution that is zero everywhere except at $x = 0$, where it is infinitely tall such that its integral over the entire real line is 1. Mathematically, in the limit as $\\sigma \\to 0$, $G(x)$ approaches $\\delta(x)$, symbolically represented as:\n",
    "\n",
    "$ \\lim_{\\sigma \\to 0} G(x) = \\delta(x) $\n",
    "\n",
    "This implies that for a very small $\\sigma$, $G(x)$ is a good approximation of $\\delta(x)$, used in various applications where a practical implementation of the Dirac Delta function is needed.\n",
    "\n",
    "- In the context of processing continuous signals, approximating the Dirac Delta function with a Gaussian allows for practical implementations in digital signal processing and simulations. Since the Dirac Delta is idealized and cannot be directly implemented in real-world systems due to its infinite amplitude and infinitesimal width, using a Gaussian provides a manageable approximation. This approximation is particularly useful in signal processing for functions like impulse response, where the Dirac Delta function is used to characterize systems. By approximating $\\delta(x)$ with a narrow Gaussian, we can effectively simulate the impact of an impulse on a system in a way that is computationally feasible and physically realizable.\n",
    "\n",
    "---\n"
   ]
  },
  {
   "cell_type": "markdown",
   "metadata": {},
   "source": [
    "<a id=\"question-2\"></a>\n",
    "### Question 2: Extracting Values from a Continuous Function Using Dirac's Delta\n",
    "The Dirac Delta function can be used to extract specific values from a continuous function, which is a concept useful in signal processing in neuroscience.\n",
    "\n",
    "Given a continuous function $f(t)$ representing a continuous signal over time, and considering the sifting property of the Dirac Delta function,\n",
    "\n",
    "**Task:** \n",
    "- Write the integral expression that extracts the value of $f(t)$ at time $t_0$ using the Dirac Delta function.\n",
    "\n",
    "Write your answer in the following markdown cell:"
   ]
  },
  {
   "cell_type": "markdown",
   "metadata": {},
   "source": [
    "---\n",
    "\n",
    "To answer **Question 2**:\n",
    "\n",
    "- To demonstrate this property with the function $f(x) = x^2$ at $x = 2$, we apply the Dirac Delta function as specified:\n",
    "\n",
    "$ \\int_{-\\infty}^{\\infty} x^2 \\delta(x - 2) \\,dx $\n",
    "\n",
    "Using the property of the Dirac Delta function, the integral evaluates to the value of the function $f(x)$ at $x = 2$, which is:\n",
    "\n",
    "$ \\int_{-\\infty}^{\\infty} x^2 \\delta(x - 2) \\,dx = (2)^2 = 4 $\n",
    "\n",
    "Thus, the application of the Dirac Delta function enables us to extract the value 4 from the continuous function $f(x) = x^2$ at $x = 2$.\n",
    "\n",
    "- The significance of this property in the analysis and synthesis of signals is profound. In signal analysis, the Dirac Delta function can be used to model impulses or instantaneous events within signals, allowing for the analysis of systems' responses to such events. In synthesis, it enables the construction of more complex signals from simple components. For example, any continuous signal can theoretically be represented as an infinite sum of scaled and shifted Dirac Delta functions. This property is fundamental to various signal processing techniques, including sampling and reconstruction, where signals are sampled at discrete points (modeled as multiplication by a series of Dirac Delta functions) and then reconstructed to approximate the original continuous signal.\n",
    "\n",
    "---\n"
   ]
  },
  {
   "cell_type": "markdown",
   "metadata": {},
   "source": [
    "<a id=\"question-3\"></a>\n",
    "### Question 3: Mathematical Expression of Discrete Fourier Transform (DFT)\n",
    "\n",
    "The Discrete Fourier Transform (DFT) is used to analyze the frequency content of discrete signals.\n",
    "\n",
    "**Task:**\n",
    "Given a discrete time series $x[n]$ where $n = [0, 1, ..., N-1]$ and $N$ is the total number of samples, write down the mathematical expression for the DFT, $X[k]$, of this time series.\n",
    "\n",
    "Write your answer in the following markdown cell:"
   ]
  },
  {
   "cell_type": "markdown",
   "metadata": {},
   "source": [
    "\n",
    "---\n",
    "\n",
    "To answer **Question 3**:\n",
    "\n",
    "- The mathematical expression for the DFT is given by:\n",
    "\n",
    "$ X[k] = \\sum_{n=0}^{N-1} x[n] e^{-j2\\pi \\frac{nk}{N}} $\n",
    "\n",
    "where:\n",
    "- $X[k]$ is the DFT of the sequence $x[n]$,\n",
    "- $x[n]$ is the input sequence of length $N$,\n",
    "- $n$ is the current sample index,\n",
    "- $k$ is the index of the current frequency component,\n",
    "- $N$ is the total number of samples,\n",
    "- $j$ is the imaginary unit ($j^2 = -1$).\n",
    "\n",
    "The inverse DFT (IDFT), which transforms the sequence back from the frequency domain to the time domain, is given by:\n",
    "\n",
    "$ x[n] = \\frac{1}{N} \\sum_{k=0}^{N-1} X[k] e^{j2\\pi \\frac{nk}{N}} $\n",
    "\n",
    "- The significance of each term in the DFT expression:\n",
    "  - $x[n]$ represents the discrete time-domain signal being analyzed.\n",
    "  - $e^{-j2\\pi \\frac{nk}{N}}$ is the kernel of the DFT, with $e^{-j2\\pi}$ representing a complex rotation, translating the time-domain signal into the frequency domain.\n",
    "  - $k$ corresponds to the specific frequency component being calculated, with $0 \\leq k < N$.\n",
    "  - The sum over $n$ indicates that each frequency component, $X[k]$, is a sum of all the time-domain samples, each weighted by a complex exponential factor.\n",
    "\n",
    "---\n"
   ]
  },
  {
   "cell_type": "markdown",
   "metadata": {},
   "source": [
    "<a id=\"question-4\"></a>\n",
    "### Question 4: Conceptual Understanding of Time Domain to Frequency Domain\n",
    "The transformation from the time domain to the frequency domain is a foundational concept in signal processing and is useful in analyzing a wide range of neurophysiological signals.\n",
    "\n",
    "**Task:**\n",
    "Explain, in your own words, the significance of transforming a signal from the time domain to the frequency domain. Discuss how this transformation can be beneficial in the context of analyzing neurophysiological signals.\n",
    "\n",
    "Write your answer in the following markdown cell:"
   ]
  },
  {
   "cell_type": "markdown",
   "metadata": {},
   "source": [
    "\n",
    "---\n",
    "\n",
    "To answer **Question 4**:\n",
    "\n",
    "- **Conceptual Difference Between the Time Domain and the Frequency Domain**:\n",
    "  - The **time domain** represents a signal in terms of its amplitude over time. It is the most intuitive way to visualize a signal, showing how the signal changes at each moment. Time-domain graphs typically display the signal amplitude (or some other physical quantity) as a function of time.\n",
    "  - The **frequency domain**, on the other hand, represents a signal in terms of its constituent frequencies. It shows how much of the signal's energy is present at different frequency components. Frequency-domain graphs display amplitude (or power) as a function of frequency, rather than time.\n",
    "\n",
    "- **Importance of Transformation**:\n",
    "  - Transforming signals from the time domain to the frequency domain is essential for understanding the signal's behavior in terms of its frequency content. Many signals contain information encoded in their frequency components, and some signal characteristics are more easily analyzed and manipulated in the frequency domain. For example, it can be easier to identify and filter out unwanted noise or to analyze the harmonic content of a signal.\n",
    "  - Techniques such as Fourier Transform (including DFT for discrete signals) are used for this transformation, revealing the spectrum of frequencies that make up the signal. This is crucial for tasks such as filtering, compression, and feature extraction."
   ]
  },
  {
   "cell_type": "markdown",
   "metadata": {},
   "source": [
    "------------------------------------------------------------------------------------------------------"
   ]
  },
  {
   "cell_type": "markdown",
   "metadata": {},
   "source": [
    "<a id='programming-exercises'> </a>\n",
    "## Programming Exercises - Analyzing EEG Data\n",
    "\n",
    "The following code cells contain the programming portion of this homework assignment. In this assignment, we will load an EEG signal, examine it, and record our obersvations. Then, we will transform the signal into the frequency domain using a Fourier Transform. Finally, we will write down our observations about the signal expressed in the frequency domain."
   ]
  },
  {
   "cell_type": "markdown",
   "metadata": {},
   "source": [
    "<a id='loading-data'> </a>\n",
    "### Loading and Visualizing EEG Data"
   ]
  },
  {
   "cell_type": "code",
   "execution_count": 1,
   "metadata": {},
   "outputs": [],
   "source": [
    "# Import dependencies\n",
    "from pylab import *\n",
    "rcParams['figure.figsize']=(12,3)"
   ]
  },
  {
   "cell_type": "code",
   "execution_count": null,
   "metadata": {},
   "outputs": [],
   "source": [
    "## First, we inspect the data in the time domain\n",
    "from scipy.io import loadmat\n",
    "\n",
    "data = loadmat('EEG-Signal-Homework.mat')  # Load the EEG data\n",
    "EEG = data['EEG'][:, 0]                 # Extract the EEG variable\n",
    "t = data['t'][0]                        # Extract the time variable\n",
    "\n",
    "plot(t, EEG)                            # Plot the data in the time domain\n",
    "xlabel('Time [s]')                      # Label the time axis\n",
    "ylabel('Voltage [$\\mu V$]')             # Label the voltage axis\n",
    "autoscale(tight=True)                   # Minimize white space\n",
    "show()"
   ]
  },
  {
   "cell_type": "markdown",
   "metadata": {},
   "source": [
    "In our plot, the voltage trace is plotted as a continuous line, but don't be fooled into thinking that the signal has been stored as a continuous signal. If we zoom in on the data, we can see our signal actually consists of discreet data points (shown below). Although the physiological signal being recorded evolves as a continuous signal, we observe discrete samples of this continuous signal. The sampling rate is determined by the EEG recording device used. In this example, the **data is being sampled at 1000Hz, or one sample every 1ms.**"
   ]
  },
  {
   "cell_type": "code",
   "execution_count": null,
   "metadata": {},
   "outputs": [],
   "source": [
    "plot(t[:25], EEG[:25], 'o-')    # Plot the first 25 points\n",
    "xlabel('Time [s]')              # Label the time axis\n",
    "ylabel('Voltage [$\\mu V$]')     # Label the voltage axis\n",
    "show()"
   ]
  },
  {
   "cell_type": "markdown",
   "metadata": {},
   "source": [
    "<a id=\"question-5\"></a>\n",
    "### Question 5: record your observations\n",
    "\n",
    "In the following markdown cell, in a few sentences, record your observations of this signal in its time domain. What can and cannot be inferred from the signal when it is represented in this format?"
   ]
  },
  {
   "cell_type": "markdown",
   "metadata": {},
   "source": [
    "** solution will vary **"
   ]
  },
  {
   "cell_type": "markdown",
   "metadata": {},
   "source": [
    "<a id=\"question-6\"></a>\n",
    "### Question 6: calculating total time and sampling frequency\n",
    "\n",
    "We denote the sampling variables as follows:\n",
    "\n",
    "&emsp; **Total time sampled:** &emsp;  $ T = N \\Delta$\n",
    "\n",
    "Where:\n",
    "\n",
    "&emsp; $\\Delta$ &emsp; = &emsp; time between samples\n",
    "\n",
    "&emsp; $N$ &emsp; = &emsp; number of samples\n",
    "\n",
    "We denote the **sampling frequency** as:\n",
    "\n",
    "&emsp; $f_s = 1/\\Delta$\n",
    "\n",
    "Please fill out the following python code sell to define the variables for $\\Delta$ (dt), $N$, $T$, and $f_s$ (f_s)."
   ]
  },
  {
   "cell_type": "code",
   "execution_count": 4,
   "metadata": {},
   "outputs": [],
   "source": [
    "dt = np.diff(data['t'][0])[0]\n",
    "N = len(data['EEG'])\n",
    "T = N * dt \n",
    "f_s = 1 / dt"
   ]
  },
  {
   "cell_type": "markdown",
   "metadata": {},
   "source": [
    "<a id=\"question-7\"></a>\n",
    "### Question 7: Fourier Transform of the EEG Data\n",
    "\n",
    "While there are many techniques to analyze rhythmic activity in EEG data, in this example we will compute the *power spectral density*, or simply the *spectrum*, of the signal using the <a href=\"https://en.wikipedia.org/wiki/Fourier_transform\" rel=\"external\">*Fourier transform*</a>.\n",
    "    \n",
    "**Note**: The *spectrum* of the data is the magnitude squared of the Fourier-transformed data. The spectrum indicates the amplitude of rhythmic activity as a function of frequency. The *power spectral density* describes the extent to which sinusoids of a single frequency capture the structure of the data. To compute the power over any range of frequencies, we would integrate (or for discrete frequencies, sum) the spectrum over that frequency range.\n",
    "\n",
    "In the following code cell, use the Fourier transform functions in Numpy to transform the EEG signal into the frequency domain."
   ]
  },
  {
   "cell_type": "code",
   "execution_count": null,
   "metadata": {},
   "outputs": [],
   "source": [
    "import numpy as np\n",
    "\n",
    "EEG_transformed = np.fft.rfftn(data['EEG'], s=None, axes=None, norm=None)\n",
    "\n",
    "spectrum = (2 * dt ** 2 / T * EEG_transformed  * EEG_transformed.conj()).real\n",
    "faxis = arange(len(spectrum)) / T.max()\n",
    "plot(faxis, spectrum)\n",
    "xlim([0, 100]) # Setting the frequency range.\n",
    "xlabel('Frequency (Hz)')\n",
    "ylabel('Power [$\\mu V^2$/Hz]')\n",
    "show()"
   ]
  },
  {
   "cell_type": "markdown",
   "metadata": {},
   "source": [
    "<a id=\"question-8\"></a>\n",
    "### Question 8: record observations about the frequency plot\n",
    "\n",
    "In the following markdown cell, record your observations about the frequency domain plot, and what conclusions can or cannot be drawn from this plot. Do you suspect there to be any data that is not immediately observable in the plot?"
   ]
  },
  {
   "cell_type": "markdown",
   "metadata": {},
   "source": [
    "--- \n",
    "\n",
    "In the frequency domain analysis, we observe a prominent peak centered at 60Hz. This observation indicates a substantial concentration of energy at this frequency. Such a dominant frequency could be indicative of a specific signal of interest or, alternatively, represent noise. Given the common occurrence of 60Hz frequencies in electrical sources, it's plausible to consider this peak as noise-related. Furthermore, the prominence of this peak suggests it may overshadow other, less intense peaks that could correspond to rhythmic activities within the signal.\n",
    "\n",
    "---"
   ]
  },
  {
   "cell_type": "markdown",
   "metadata": {},
   "source": [
    "<a id=\"decibel-scale\"></a>\n",
    "### Decibel Scaling\n",
    "\n",
    "From the frequency plot, we can observe that the spectrum is dominated by a single peak at 60 Hz. There may be additional weaker rhythmic activity in the data, but these features remain hidden in the plot because of the large 60 Hz peak. We could state that the 60 Hz peak saturates the vertical scale. One technique to emphasize lower-amplitude rhythms hidden by large-amplitude oscillations is to change the scale of the spectrum to **decibels**. The decibel scale is a logarithmic scale. To convert our scale to decibels, we divide the spectrum by the maximum value observed in it, and then take the base 10 logarithm of this ratio. Finally, we multiply the result by 10."
   ]
  },
  {
   "cell_type": "code",
   "execution_count": null,
   "metadata": {},
   "outputs": [],
   "source": [
    "plot(faxis, 10 * log10(spectrum / max(spectrum)))  # Plot the spectrum in decibels.\n",
    "xlim([0, 100])                           # Setting the frequency range.\n",
    "ylim([-60, 0])                           # Setting the decibel range.\n",
    "xlabel('Frequency [Hz]')                \n",
    "ylabel('Power [dB]')\n",
    "show()"
   ]
  },
  {
   "cell_type": "markdown",
   "metadata": {},
   "source": [
    "<a id=\"question-9\"></a>\n",
    "### Question 9: interpreting decibel scale results\n",
    "\n",
    "In the following code cell, answer the question \"what is the value in decibels at 60Hz?\"\n",
    "Enter your answer by setting the variable \"decibel-value_at_60\" to your answer."
   ]
  },
  {
   "cell_type": "code",
   "execution_count": null,
   "metadata": {},
   "outputs": [],
   "source": [
    "decibel-value_at_60 = 10 * np.log10(spectrum[np.argmin(np.abs(faxis - 60))])\n",
    "\n",
    "# Print the result\n",
    "print(f\"The value in decibels at {60}Hz is: {decibel_value_at_60[0]} dB\")"
   ]
  },
  {
   "cell_type": "markdown",
   "metadata": {},
   "source": [
    "The decibel scale reveals new structure in the spectrum. In particular, two peaks have emerged at frequencies 5–15 Hz. These peaks are much weaker than the 60 Hz signal; both peaks are approximately 30 dB below the maximum at 60 Hz, or equivalently, three *orders of magnitude* weaker. Because these peaks are so small relative to the 60 Hz signal, neither was apparent in the original plot of the spectrum."
   ]
  },
  {
   "cell_type": "markdown",
   "metadata": {},
   "source": [
    "<a id=\"spectrogram\"></a>\n",
    "### The Spectrogram"
   ]
  },
  {
   "cell_type": "markdown",
   "metadata": {},
   "source": [
    "The spectrum plotted using the decibel scale suggests that three rhythms appear in the EEG signal: 60 Hz, approximately 11 Hz, and approximately 6 Hz. Given only these results, we may reasonably conclude that these three rhythms appear simultaneously throughout the entirety of the EEG recording. That is an assumption we make in computing the spectrum of the entire interval. To further test this assumption in the EEG data, we compute the *spectrogram*. The idea of the spectrogram is to break up the time series into smaller intervals of data and then compute the spectrum in each interval. These intervals can be quite small and can even overlap. The result is the spectrum as a function of frequency and time.\n",
    "\n",
    "To compute and display the spectrogram in Python, we use the function `spectrogram` from the `scipy` module, and provide four arguments to the function:\n",
    "\n",
    "  - Data: 'EEG'\n",
    "  - Sampling frequency: 'fs'\n",
    "  - Interval size/segment length: 'nperseg'\n",
    "  - Overlap between intervals (here set to 95%): 'noverlap'\n",
    "\n",
    "More information about these options can be found in the documentation:\n",
    "\n",
    "[https://docs.scipy.org/doc/scipy/reference/generated/scipy.signal.spectrogram.html](https://docs.scipy.org/doc/scipy/reference/generated/scipy.signal.spectrogram.html)"
   ]
  },
  {
   "cell_type": "code",
   "execution_count": null,
   "metadata": {},
   "outputs": [],
   "source": [
    "from scipy.signal import spectrogram\n",
    "\n",
    "f, t, Sxx = spectrogram(\n",
    "    EEG,                  \n",
    "    fs=f_s,                \n",
    "    nperseg=int(f_s),     \n",
    "    noverlap=int(f_s * 0.95))     \n",
    "pcolormesh(t, f, 10 * log10(Sxx), cmap='jet')\n",
    "colorbar()                \n",
    "ylim([0, 70])             \n",
    "xlabel('Time [s]')        \n",
    "ylabel('Frequency [Hz]')\n",
    "show()"
   ]
  }
 ],
 "metadata": {
  "kernelspec": {
   "display_name": "Python 3",
   "language": "python",
   "name": "python3"
  },
  "language_info": {
   "codemirror_mode": {
    "name": "ipython",
    "version": 3
   },
   "file_extension": ".py",
   "mimetype": "text/x-python",
   "name": "python",
   "nbconvert_exporter": "python",
   "pygments_lexer": "ipython3",
   "version": "3.11.6"
  }
 },
 "nbformat": 4,
 "nbformat_minor": 2
}
