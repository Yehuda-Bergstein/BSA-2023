{
 "cells": [
  {
   "cell_type": "markdown",
   "metadata": {},
   "source": [
    "# Biological Signals Analysis\n",
    "## Exercise 2 - Fourier Analysis\n",
    "### Guy Singer | 10.1.2024\n",
    "\n",
    "<br>\n",
    "<br>\n",
    "\n",
    "## Table of Contents:\n",
    "### Part I - The Frequency Domain\n",
    "- [Sampling in Time](#Sampling-in-Time)\n",
    "- Spectrum\n",
    "- Aliasing\n",
    "### Part II - Fourier Analysis\n",
    "- Introduction\n",
    "- Orthogonality\n",
    "- Fourier Series\n",
    "- Even and Odd Functions\n",
    "- Complex Fourier Series\n",
    "### Part III - Fourier Transform\n",
    "- Introduction\n",
    "- Discreet Fourier Transform\n",
    "- Programming Example\n",
    "\n",
    "<br>\n",
    "<br>"
   ]
  },
  {
   "cell_type": "markdown",
   "metadata": {},
   "source": [
    "## Part I - The Frequency Domain"
   ]
  },
  {
   "cell_type": "markdown",
   "metadata": {},
   "source": [
    "## Sampling in Time <a name=\"Sampling-in-Time\"></a>\n",
    "\n",
    "In many scenarios, a continuous signal must be turned into a discreet signal to amenable for analysis.\n",
    "  - **Continuous (Analog) Signal**: Composed of an uninterrupted signal. Can be represented mathematically as a function that is defined over some interval, which has data for every single point along this interval.\n",
    "  - **Discreet (Digital) Signal**: Composed of a finite number of discrete values. Can be represented mathematically as a sequence of numbers, which are data for specified points along the time interval.\n",
    "\n",
    "Many biological signals are continuous. For example, the membrane voltage of a neuron has a continuous value. When measuring this voltage with an electrode, the values of current and voltage measured by the electrode are also continuous. **However, as soon as we observe these values, we have to sample them.** Whenever we observe the electrode's values, we are sampling the values at a specific point along the time interval. Expressed mathematically, we define:\n",
    "\n",
    "&emsp; *Sampling Interval:* &emsp;  $ T_s $\n",
    "\n",
    "&emsp; *Sampling Frequency:*  &emsp; $ F_s = f_s = 1/T_s $\n",
    "\n",
    "Given an **analog** signal &nbsp; $x_{analog} = x(n)$,&nbsp; where $n$ represents time (or any other independent variable), we can sample the signal into discret values and represent the $n^{th}$ value as $x[n]$. The set of all discreete values can be expressed as:\n",
    "\n",
    "&emsp; $ x = x[n], -\\infty < n < \\infty,$ &nbsp; $ where $ &nbsp; $ n \\in \\mathbb{Z} $\n",
    "\n"
   ]
  },
  {
   "cell_type": "markdown",
   "metadata": {},
   "source": []
  }
 ],
 "metadata": {
  "language_info": {
   "name": "python"
  }
 },
 "nbformat": 4,
 "nbformat_minor": 2
}
